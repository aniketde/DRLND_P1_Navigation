{
 "cells": [
  {
   "cell_type": "markdown",
   "metadata": {},
   "source": [
    "\n",
    "# Project 1: Navigation"
   ]
  },
  {
   "cell_type": "markdown",
   "metadata": {},
   "source": [
    "[image1]: https://video.udacity-data.com/topher/2018/June/5b1ab4b0_banana/banana.gif \"Trained Agent\"\n",
    "\n",
    "### Introduction\n",
    "\n",
    "For this project, you will train an agent to navigate (and collect bananas!) in a large, square world.\n",
    "\n",
    "  \n",
    " reward of +1 is provided for collecting a yellow banana, and a reward of -1 is provided for collecting a blue banana. Thus, the goal of your agent is to collect as many yellow bananas as possible while avoiding blue bananas.\n",
    "\n",
    "The state space has 37 dimensions and contains the agent's velocity, along with ray-based perception of objects around the agent's forward direction. Given this information, the agent has to learn how to best select actions. Four discrete actions are available, corresponding to:\n",
    "\n",
    "    0 - move forward.\n",
    "    1 - move backward.\n",
    "    2 - turn left.\n",
    "    3 - turn right.\n",
    "\n"
   ]
  },
  {
   "cell_type": "markdown",
   "metadata": {},
   "source": [
    "The task is episodic, and in order to solve the environment, your agent must get an average score of +13 over 100 consecutive episodes.\n"
   ]
  },
  {
   "cell_type": "markdown",
   "metadata": {},
   "source": [
    "#### DDPG Agent\n",
    "DDPG agent, [ddpg_agent.py](ddpg_agent.py), implements the DDPG algorithm from [DDPG paper](https://arxiv.org/pdf/1509.02971): policy gradient algorithm that employs actor-critic model.\n",
    "Following are the Actor network parameters: "
   ]
  },
  {
   "cell_type": "code",
   "execution_count": 2,
   "metadata": {},
   "outputs": [
    {
     "name": "stdout",
     "output_type": "stream",
     "text": [
      "----------------------------------------------------------------\n",
      "        Layer (type)               Output Shape         Param #\n",
      "================================================================\n",
      "            Linear-1                  [-1, 512]          17,408\n",
      "            Linear-2                  [-1, 512]         262,656\n",
      "            Linear-3                  [-1, 512]         262,656\n",
      "            Linear-4                  [-1, 256]         131,328\n",
      "            Linear-5                  [-1, 256]          65,792\n",
      "            Linear-6                    [-1, 4]           1,028\n",
      "================================================================\n",
      "Total params: 740,868\n",
      "Trainable params: 740,868\n",
      "Non-trainable params: 0\n",
      "----------------------------------------------------------------\n",
      "Input size (MB): 0.00\n",
      "Forward/backward pass size (MB): 0.02\n",
      "Params size (MB): 2.83\n",
      "Estimated Total Size (MB): 2.84\n",
      "----------------------------------------------------------------\n"
     ]
    }
   ],
   "source": [
    "from model import QNetwork\n",
    "from torchsummary import summary\n",
    "state_size = 33\n",
    "action_size = 4\n",
    "actor_model = QNetwork(state_size, action_size, 2 )\n",
    "summary(actor_model, (state_size,))"
   ]
  },
  {
   "cell_type": "markdown",
   "metadata": {},
   "source": [
    "he Q network is learned to increase Q-values of good actions and decrease Q-values of bad actions. "
   ]
  },
  {
   "cell_type": "markdown",
   "metadata": {},
   "source": [
    "#### Hyper-Parameters\n",
    "- Replay buffer size **1e5**.\n",
    "- Minibatch size = **128**.\n",
    "- Discount factor = **0.999**.\n",
    "- Model learning rate of **5e-4** "
   ]
  },
  {
   "cell_type": "markdown",
   "metadata": {},
   "source": [
    "#### Result\n",
    "The following is training result, which is resolved in 699 episodes with average score of 13.04 over the last 100 episodes. \n",
    "\n",
    "![Result](banana_scores.png)"
   ]
  },
  {
   "cell_type": "code",
   "execution_count": null,
   "metadata": {},
   "outputs": [],
   "source": []
  },
  {
   "cell_type": "code",
   "execution_count": null,
   "metadata": {},
   "outputs": [],
   "source": []
  }
 ],
 "metadata": {
  "kernelspec": {
   "display_name": "Python 3",
   "language": "python",
   "name": "python3"
  },
  "language_info": {
   "codemirror_mode": {
    "name": "ipython",
    "version": 3
   },
   "file_extension": ".py",
   "mimetype": "text/x-python",
   "name": "python",
   "nbconvert_exporter": "python",
   "pygments_lexer": "ipython3",
   "version": "3.6.9"
  }
 },
 "nbformat": 4,
 "nbformat_minor": 2
}
